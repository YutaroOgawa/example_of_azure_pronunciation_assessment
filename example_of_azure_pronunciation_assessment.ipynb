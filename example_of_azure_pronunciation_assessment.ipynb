{
  "nbformat": 4,
  "nbformat_minor": 0,
  "metadata": {
    "colab": {
      "name": "example_of_azure_pronunciation_assessment.ipynb",
      "provenance": [],
      "collapsed_sections": []
    },
    "kernelspec": {
      "name": "python3",
      "display_name": "Python 3"
    },
    "language_info": {
      "name": "python"
    }
  },
  "cells": [
    {
      "cell_type": "markdown",
      "source": [
        "---\n",
        "\n",
        "[1] まずは音声認識からはじめてみましょう\n",
        "==================="
      ],
      "metadata": {
        "id": "_JRgLLVUCNTd"
      }
    },
    {
      "cell_type": "code",
      "source": [
        "# [1] AzureのCognitive Servicesのspeechのインストール\n",
        "!pip install azure-cognitiveservices-speech\n"
      ],
      "metadata": {
        "colab": {
          "base_uri": "https://localhost:8080/"
        },
        "id": "LuFZEHMBz7e6",
        "outputId": "26821a36-ab54-468a-c136-8c194e68be74"
      },
      "execution_count": 1,
      "outputs": [
        {
          "output_type": "stream",
          "name": "stdout",
          "text": [
            "Requirement already satisfied: azure-cognitiveservices-speech in /usr/local/lib/python3.7/dist-packages (1.19.0)\n"
          ]
        }
      ]
    },
    {
      "cell_type": "code",
      "source": [
        "# [2] 使用するパッケージなどのimport\n",
        "import azure.cognitiveservices.speech as speech_sdk\n"
      ],
      "metadata": {
        "id": "ak0VuYrS0hiB"
      },
      "execution_count": 2,
      "outputs": []
    },
    {
      "cell_type": "code",
      "execution_count": 3,
      "metadata": {
        "id": "Cs0v-_aey2et"
      },
      "outputs": [],
      "source": [
        "# [3] keyとregionの設定\n",
        "# 今回はセキュリテイを無視していますが、本番環境では重要情報なのでご注意を\n",
        "\n",
        "COG_SERVICE_KEY=\"your_cognitive_services_key\"\n",
        "COG_SERVICE_REGION=\"your_cognitive_services_location\"\n"
      ]
    },
    {
      "cell_type": "code",
      "source": [
        "# [4] SpeechConfigの設定\n",
        "# 今回はセキュリテイを無視していますが、本番環境では重要情報なのでご注意を\n",
        "speech_config = speech_sdk.SpeechConfig(COG_SERVICE_KEY, COG_SERVICE_REGION)\n",
        "print('speech serviceのregionはこちらに設定しました:', speech_config.region)\n"
      ],
      "metadata": {
        "colab": {
          "base_uri": "https://localhost:8080/"
        },
        "id": "X-Rwd4IJ0ASL",
        "outputId": "e7b9115f-cf5c-4ec4-8525-b71b3d0091b1"
      },
      "execution_count": 4,
      "outputs": [
        {
          "output_type": "stream",
          "name": "stdout",
          "text": [
            "speech serviceのregionはこちらに設定しました: southcentralus\n"
          ]
        }
      ]
    },
    {
      "cell_type": "code",
      "source": [
        "# [5] 使用するファイルの設定\n",
        "audioFile = '/content/time.wav'\n"
      ],
      "metadata": {
        "id": "Qh0IdJEj0vpd"
      },
      "execution_count": 5,
      "outputs": []
    },
    {
      "cell_type": "code",
      "source": [
        "# [6] AudioConfigの設定\n",
        "audio_config = speech_sdk.AudioConfig(filename=audioFile)\n"
      ],
      "metadata": {
        "id": "9XaqVEGg1hup"
      },
      "execution_count": 6,
      "outputs": []
    },
    {
      "cell_type": "code",
      "source": [
        "# [7] SpeechRecognizerの設定（SpeechConfigとAudioConfigを設定時に使用します）\n",
        "speech_recognizer = speech_sdk.SpeechRecognizer(speech_config, audio_config)\n"
      ],
      "metadata": {
        "id": "nn35VA7M1utf"
      },
      "execution_count": 7,
      "outputs": []
    },
    {
      "cell_type": "code",
      "source": [
        "# [8] SpeechRecognizerで音声処理（音声認識）\n",
        "speech_result = speech_recognizer.recognize_once_async().get()\n",
        "print(\"次の音声と認識しました：\", speech_result.text)\n"
      ],
      "metadata": {
        "colab": {
          "base_uri": "https://localhost:8080/"
        },
        "id": "JidWlIXz19Vn",
        "outputId": "81199155-92fe-41f6-8106-8bf439e94614"
      },
      "execution_count": 8,
      "outputs": [
        {
          "output_type": "stream",
          "name": "stdout",
          "text": [
            "次の音声と認識しました： What time is it?\n"
          ]
        }
      ]
    },
    {
      "cell_type": "markdown",
      "source": [
        "---\n",
        "\n",
        "[2] 発音評価（Pronunciation assessment）\n",
        "==================="
      ],
      "metadata": {
        "id": "Sz0uvGVtCVML"
      }
    },
    {
      "cell_type": "code",
      "source": [
        "# [1] 発音している単語のスクリプトを用意します\n",
        "script = 'What time is it'\n"
      ],
      "metadata": {
        "id": "KszQ23302Qsu"
      },
      "execution_count": 9,
      "outputs": []
    },
    {
      "cell_type": "markdown",
      "source": [
        "[2] AudioConfigの設定\n",
        "\n",
        "参考記事\n",
        "\n",
        "https://docs.microsoft.com/ja-jp/azure/cognitive-services/speech-service/how-to-pronunciation-assessment?pivots=programming-language-python\n",
        "\n",
        "SDK解説：azure-cognitiveservices-speech Package\n",
        "\n",
        "https://docs.microsoft.com/ja-jp/python/api/azure-cognitiveservices-speech/?view=azure-python\n",
        "\n",
        "プログラム参考\n",
        "\n",
        "https://github.com/Azure-Samples/cognitive-services-speech-sdk/blob/4f9ee79c2287a5a00dcd1a50112cd43694aa7286/samples/python/console/speech_sample.py#L707\n"
      ],
      "metadata": {
        "id": "FmAaFSk2D76z"
      }
    },
    {
      "cell_type": "code",
      "source": [
        "# [2] AudioConfigの設定\n",
        "# 詳細\n",
        "# https://docs.microsoft.com/ja-jp/python/api/azure-cognitiveservices-speech/azure.cognitiveservices.speech.pronunciationassessmentconfig?view=azure-python\n",
        "\n",
        "pronunciation_config = speech_sdk.PronunciationAssessmentConfig(reference_text=script,\n",
        "                                                                   grading_system=speech_sdk.PronunciationAssessmentGradingSystem.HundredMark,\n",
        "                                                                   granularity=speech_sdk.PronunciationAssessmentGranularity.Word)\n"
      ],
      "metadata": {
        "id": "zCg1FULWCnHp"
      },
      "execution_count": 10,
      "outputs": []
    },
    {
      "cell_type": "code",
      "source": [
        "# [3] SpeechRecognizerの設定（SpeechConfigとAudioConfigを設定時に使用します）\n",
        "speech_recognizer = speech_sdk.SpeechRecognizer(speech_config, audio_config)\n",
        "# 先ほど[7]で設定したものと同じ内容です\n"
      ],
      "metadata": {
        "id": "vVtj6duSESGM"
      },
      "execution_count": 11,
      "outputs": []
    },
    {
      "cell_type": "code",
      "source": [
        "# [4] 発音評価：Pronunciation Assessmentの実施\n",
        "pronunciation_config.apply_to(speech_recognizer)\n",
        "result = speech_recognizer.recognize_once()\n"
      ],
      "metadata": {
        "id": "b4RbgzZHFqEA"
      },
      "execution_count": 12,
      "outputs": []
    },
    {
      "cell_type": "code",
      "source": [
        "# [5] 発音評価：Pronunciation Assessmentの結果をまとめたオブジェクトを作成\n",
        "pronunciation_result = speech_sdk.PronunciationAssessmentResult(result)\n"
      ],
      "metadata": {
        "id": "lJddyleKGF7u"
      },
      "execution_count": 13,
      "outputs": []
    },
    {
      "cell_type": "code",
      "source": [
        "# [6] 発音評価の結果を表示（全文での）\n",
        "print('Accuracy score: {}, fluency score: {}, completeness score : {}, pronunciation score: {}'.format(\n",
        "            pronunciation_result.accuracy_score, pronunciation_result.fluency_score,\n",
        "            pronunciation_result.completeness_score, pronunciation_result.pronunciation_score\n",
        "        ))"
      ],
      "metadata": {
        "colab": {
          "base_uri": "https://localhost:8080/"
        },
        "id": "9TtBKLs0GTdL",
        "outputId": "728851cb-d7c3-4f43-9748-4df27652c5a8"
      },
      "execution_count": 14,
      "outputs": [
        {
          "output_type": "stream",
          "name": "stdout",
          "text": [
            "Accuracy score: 100.0, fluency score: 100.0, completeness score : 100.0, pronunciation score: 100.0\n"
          ]
        }
      ]
    },
    {
      "cell_type": "code",
      "source": [
        "# [7] 発音評価の結果を表示（単語ごとに）\n",
        "for word_result in pronunciation_result.words:\n",
        "    print('単語：{}, Accuracy score：{}'.format(word_result.word, word_result.accuracy_score))"
      ],
      "metadata": {
        "colab": {
          "base_uri": "https://localhost:8080/"
        },
        "id": "ghqJZy6BKJwX",
        "outputId": "dfc3fc89-4340-4295-8e0c-2d2aaa29ae44"
      },
      "execution_count": 15,
      "outputs": [
        {
          "output_type": "stream",
          "name": "stdout",
          "text": [
            "単語：What, Accuracy score：100.0\n",
            "単語：time, Accuracy score：100.0\n",
            "単語：is, Accuracy score：100.0\n",
            "単語：it, Accuracy score：100.0\n"
          ]
        }
      ]
    },
    {
      "cell_type": "code",
      "source": [
        "# [8] まとめてJsonで取得・表示\n",
        "import json\n",
        "\n",
        "json_result = result.properties.get(speech_sdk.PropertyId.SpeechServiceResponse_JsonResult)\n",
        "jo = json.loads(json_result)\n",
        "print(json.dumps(jo, indent=2))"
      ],
      "metadata": {
        "colab": {
          "base_uri": "https://localhost:8080/"
        },
        "id": "h6MgMRoxMrkU",
        "outputId": "eafa33a5-2ab1-4030-eaf7-c9d030c71348"
      },
      "execution_count": 17,
      "outputs": [
        {
          "output_type": "stream",
          "name": "stdout",
          "text": [
            "{\n",
            "  \"Id\": \"b4cac8d5693a4cd9a08126fae9c90c28\",\n",
            "  \"RecognitionStatus\": \"Success\",\n",
            "  \"Offset\": 5000000,\n",
            "  \"Duration\": 11100000,\n",
            "  \"DisplayText\": \"What time is it?\",\n",
            "  \"SNR\": 27.69381,\n",
            "  \"NBest\": [\n",
            "    {\n",
            "      \"Confidence\": 0.9356122,\n",
            "      \"Lexical\": \"What time is it\",\n",
            "      \"ITN\": \"What time is it\",\n",
            "      \"MaskedITN\": \"what time is it\",\n",
            "      \"Display\": \"What time is it?\",\n",
            "      \"PronunciationAssessment\": {\n",
            "        \"AccuracyScore\": 100.0,\n",
            "        \"FluencyScore\": 100.0,\n",
            "        \"CompletenessScore\": 100.0,\n",
            "        \"PronScore\": 100.0\n",
            "      },\n",
            "      \"Words\": [\n",
            "        {\n",
            "          \"Word\": \"What\",\n",
            "          \"Offset\": 5000000,\n",
            "          \"Duration\": 3500000,\n",
            "          \"PronunciationAssessment\": {\n",
            "            \"AccuracyScore\": 100.0,\n",
            "            \"ErrorType\": \"None\"\n",
            "          }\n",
            "        },\n",
            "        {\n",
            "          \"Word\": \"time\",\n",
            "          \"Offset\": 8600000,\n",
            "          \"Duration\": 2900000,\n",
            "          \"PronunciationAssessment\": {\n",
            "            \"AccuracyScore\": 100.0,\n",
            "            \"ErrorType\": \"None\"\n",
            "          }\n",
            "        },\n",
            "        {\n",
            "          \"Word\": \"is\",\n",
            "          \"Offset\": 11600000,\n",
            "          \"Duration\": 1300000,\n",
            "          \"PronunciationAssessment\": {\n",
            "            \"AccuracyScore\": 100.0,\n",
            "            \"ErrorType\": \"None\"\n",
            "          }\n",
            "        },\n",
            "        {\n",
            "          \"Word\": \"it\",\n",
            "          \"Offset\": 13000000,\n",
            "          \"Duration\": 3100000,\n",
            "          \"PronunciationAssessment\": {\n",
            "            \"AccuracyScore\": 100.0,\n",
            "            \"ErrorType\": \"None\"\n",
            "          }\n",
            "        }\n",
            "      ]\n",
            "    }\n",
            "  ]\n",
            "}\n"
          ]
        }
      ]
    },
    {
      "cell_type": "markdown",
      "source": [
        "以上。"
      ],
      "metadata": {
        "id": "slMkki-9Hotw"
      }
    },
    {
      "cell_type": "code",
      "source": [
        ""
      ],
      "metadata": {
        "id": "moWEmZkjGUwH"
      },
      "execution_count": null,
      "outputs": []
    }
  ]
}